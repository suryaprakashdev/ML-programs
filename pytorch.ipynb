{
 "cells": [
  {
   "cell_type": "code",
   "execution_count": 109,
   "id": "b50d0978-0fb6-445f-b6df-25fce07bfa37",
   "metadata": {},
   "outputs": [],
   "source": [
    "import torch\n",
    "import numpy as np\n",
    "import pandas as pd"
   ]
  },
  {
   "cell_type": "code",
   "execution_count": 11,
   "id": "30000ee5-8762-46e5-ace8-9d85713f608c",
   "metadata": {},
   "outputs": [],
   "source": [
    "from torch import nn\n",
    "from torch.utils.data import DataLoader\n",
    "from torchvision import datasets\n",
    "from torchvision.transforms import ToTensor\n",
    "\n"
   ]
  },
  {
   "cell_type": "code",
   "execution_count": null,
   "id": "23fabcbe-4953-48c4-8907-041eef41246d",
   "metadata": {},
   "outputs": [],
   "source": [
    "## download data set"
   ]
  },
  {
   "cell_type": "code",
   "execution_count": 13,
   "id": "e9de7d35-6f86-4146-8b08-b7728051ca46",
   "metadata": {},
   "outputs": [],
   "source": [
    "training_data = datasets.MNIST(\n",
    "    root = \"data\",\n",
    "    train= False ,\n",
    "    download=True,\n",
    "    transform=ToTensor(),\n",
    ")\n",
    "\n",
    "\n"
   ]
  },
  {
   "cell_type": "code",
   "execution_count": null,
   "id": "1e4c7c9a-d5bf-465f-be7c-711a943b3cd2",
   "metadata": {},
   "outputs": [],
   "source": [
    "# Download test data from open datasets.\n"
   ]
  },
  {
   "cell_type": "code",
   "execution_count": 15,
   "id": "7fe8f9c0-ec3f-4282-877f-413aecf3fb6e",
   "metadata": {},
   "outputs": [],
   "source": [
    "test_data = datasets.MNIST(\n",
    "    root =\"data\",\n",
    "    train=False,\n",
    "    download=True,\n",
    "    transform = ToTensor(),\n",
    ")"
   ]
  },
  {
   "cell_type": "code",
   "execution_count": 8,
   "id": "8e207933-3b57-42ee-b990-146427154486",
   "metadata": {},
   "outputs": [
    {
     "name": "stdout",
     "output_type": "stream",
     "text": [
      "training data zize:  10048\n",
      "test data zize:  10048\n"
     ]
    }
   ],
   "source": [
    "batch_size=64\n",
    "train_dataloader = DataLoader(training_data, batch_size=batch_size)\n",
    "test_dataloader = DataLoader(test_data, batch_size=batch_size)\n",
    "print(\"training data zize: \", len(train_dataloader) *batch_size)\n",
    "print(\"test data zize: \", len(test_dataloader) *batch_size)\n",
    "                             "
   ]
  },
  {
   "cell_type": "code",
   "execution_count": 9,
   "id": "6dbffc08-8e79-41e4-a21b-493262cd0422",
   "metadata": {},
   "outputs": [
    {
     "name": "stdout",
     "output_type": "stream",
     "text": [
      "Shape of X [N, C, H, W]: torch.Size([64, 1, 28, 28])\n",
      "Shape of y: torch.Size([64]) torch.int64\n"
     ]
    }
   ],
   "source": [
    "for X, y in test_dataloader:\n",
    "    print(f\"Shape of X [N, C, H, W]: {X.shape}\")\n",
    "    print(f\"Shape of y: {y.shape} {y.dtype}\")\n",
    "    break"
   ]
  },
  {
   "cell_type": "code",
   "execution_count": 53,
   "id": "5f28065d-dd68-4ec5-adcd-fc5322f0bbae",
   "metadata": {},
   "outputs": [],
   "source": [
    "#1D tensor\n",
    "a= torch.tensor([7,3,4,4,5,7])"
   ]
  },
  {
   "cell_type": "code",
   "execution_count": 27,
   "id": "97906ec3-c87f-412c-8c78-3b4e09ffb783",
   "metadata": {
    "tags": []
   },
   "outputs": [
    {
     "data": {
      "text/plain": [
       "'torch.LongTensor'"
      ]
     },
     "execution_count": 27,
     "metadata": {},
     "output_type": "execute_result"
    }
   ],
   "source": [
    "a.type()"
   ]
  },
  {
   "cell_type": "code",
   "execution_count": 35,
   "id": "9e06b1e3-5660-4451-98ac-ff43c2416913",
   "metadata": {
    "tags": []
   },
   "outputs": [
    {
     "data": {
      "text/plain": [
       "tensor([7, 4, 5])"
      ]
     },
     "execution_count": 35,
     "metadata": {},
     "output_type": "execute_result"
    }
   ],
   "source": [
    "a[0:5:2]"
   ]
  },
  {
   "cell_type": "code",
   "execution_count": 37,
   "id": "de0cbacc-7fe6-40fb-ba34-1ad8a634ecea",
   "metadata": {
    "tags": []
   },
   "outputs": [
    {
     "data": {
      "text/plain": [
       "tensor([7, 4, 5])"
      ]
     },
     "execution_count": 37,
     "metadata": {},
     "output_type": "execute_result"
    }
   ],
   "source": [
    "a[:5:2]"
   ]
  },
  {
   "cell_type": "code",
   "execution_count": 39,
   "id": "3be9ef6e-9cf8-428e-8e2a-4e46ae51c99b",
   "metadata": {
    "tags": []
   },
   "outputs": [
    {
     "data": {
      "text/plain": [
       "torch.int64"
      ]
     },
     "execution_count": 39,
     "metadata": {},
     "output_type": "execute_result"
    }
   ],
   "source": [
    "torch.int64"
   ]
  },
  {
   "cell_type": "code",
   "execution_count": 49,
   "id": "3c11d17c-980a-43a7-887b-0e7ed1dae883",
   "metadata": {
    "tags": []
   },
   "outputs": [
    {
     "data": {
      "text/plain": [
       "torch.int64"
      ]
     },
     "execution_count": 49,
     "metadata": {},
     "output_type": "execute_result"
    }
   ],
   "source": [
    "a.dtype"
   ]
  },
  {
   "cell_type": "code",
   "execution_count": 57,
   "id": "3f3f0436-da5a-4432-a0cf-16c8a459dda5",
   "metadata": {
    "tags": []
   },
   "outputs": [],
   "source": [
    "b=torch.FloatTensor([0,1,2,3,4,5])"
   ]
  },
  {
   "cell_type": "code",
   "execution_count": 59,
   "id": "cf74455c-deb0-4c45-ab94-cb3598277207",
   "metadata": {
    "tags": []
   },
   "outputs": [
    {
     "data": {
      "text/plain": [
       "'torch.FloatTensor'"
      ]
     },
     "execution_count": 59,
     "metadata": {},
     "output_type": "execute_result"
    }
   ],
   "source": [
    "b.type()"
   ]
  },
  {
   "cell_type": "code",
   "execution_count": 61,
   "id": "8b1079d5-06b9-42e6-a757-64cdf41c03c4",
   "metadata": {
    "tags": []
   },
   "outputs": [
    {
     "data": {
      "text/plain": [
       "torch.float32"
      ]
     },
     "execution_count": 61,
     "metadata": {},
     "output_type": "execute_result"
    }
   ],
   "source": [
    "b.dtype"
   ]
  },
  {
   "cell_type": "code",
   "execution_count": 67,
   "id": "3c1ffac0-8768-42b6-81ee-82b29747805a",
   "metadata": {
    "tags": []
   },
   "outputs": [
    {
     "data": {
      "text/plain": [
       "tensor([7., 3., 4., 4., 5., 7.])"
      ]
     },
     "execution_count": 67,
     "metadata": {},
     "output_type": "execute_result"
    }
   ],
   "source": [
    "a.type(torch.FloatTensor)"
   ]
  },
  {
   "cell_type": "code",
   "execution_count": 69,
   "id": "cafe91a7-d1e0-4e06-a3f1-96dbbe3b850b",
   "metadata": {
    "tags": []
   },
   "outputs": [
    {
     "data": {
      "text/plain": [
       "torch.Size([6])"
      ]
     },
     "execution_count": 69,
     "metadata": {},
     "output_type": "execute_result"
    }
   ],
   "source": [
    "a.size()"
   ]
  },
  {
   "cell_type": "code",
   "execution_count": 71,
   "id": "ecf067ae-3f9f-40d5-abd9-b470d0a4d49f",
   "metadata": {
    "tags": []
   },
   "outputs": [
    {
     "data": {
      "text/plain": [
       "1"
      ]
     },
     "execution_count": 71,
     "metadata": {},
     "output_type": "execute_result"
    }
   ],
   "source": [
    "a.ndimension()"
   ]
  },
  {
   "cell_type": "code",
   "execution_count": 85,
   "id": "3ace457d-0932-4140-9948-6be9b99d942a",
   "metadata": {
    "tags": []
   },
   "outputs": [
    {
     "data": {
      "text/plain": [
       "1"
      ]
     },
     "execution_count": 85,
     "metadata": {},
     "output_type": "execute_result"
    }
   ],
   "source": [
    "#convert 1D to 2D tensor using view method\n",
    "\n",
    "\n",
    "a_col=a.view(6,1)\n",
    "a\n",
    "a.ndimension()"
   ]
  },
  {
   "cell_type": "code",
   "execution_count": 91,
   "id": "2eeda909-49f6-4bc2-adc5-7e1ac8ffe103",
   "metadata": {
    "tags": []
   },
   "outputs": [
    {
     "data": {
      "text/plain": [
       "1"
      ]
     },
     "execution_count": 91,
     "metadata": {},
     "output_type": "execute_result"
    }
   ],
   "source": [
    "# -1 can be used if we don't know no of elements in tensor\n",
    "a_col=a.view(-1,1)\n",
    "\n",
    "a\n",
    "a.ndimension()"
   ]
  },
  {
   "cell_type": "code",
   "execution_count": 95,
   "id": "7e9997a3-175d-469c-acdb-c4623f39180e",
   "metadata": {
    "tags": []
   },
   "outputs": [
    {
     "data": {
      "text/plain": [
       "array([7, 3, 4, 4, 5, 7], dtype=int64)"
      ]
     },
     "execution_count": 95,
     "metadata": {},
     "output_type": "execute_result"
    }
   ],
   "source": [
    "#  pytorch  tensor to  numpy and numbers\n",
    "\n",
    "numpy1=a.numpy()\n",
    "numpy1"
   ]
  },
  {
   "cell_type": "code",
   "execution_count": 105,
   "id": "f44e907e-a51c-4f23-96d5-77d0b1ff7e6a",
   "metadata": {
    "tags": []
   },
   "outputs": [
    {
     "data": {
      "text/plain": [
       "array([1, 2, 3, 4])"
      ]
     },
     "execution_count": 105,
     "metadata": {},
     "output_type": "execute_result"
    }
   ],
   "source": [
    "np1=np.array([1,2,3,4])\n",
    "np1"
   ]
  },
  {
   "cell_type": "code",
   "execution_count": 107,
   "id": "84395d0c-45a8-4b30-8c8f-ff57110cb137",
   "metadata": {
    "tags": []
   },
   "outputs": [
    {
     "data": {
      "text/plain": [
       "tensor([1, 2, 3, 4], dtype=torch.int32)"
      ]
     },
     "execution_count": 107,
     "metadata": {},
     "output_type": "execute_result"
    }
   ],
   "source": [
    "tor=torch.from_numpy(np1)\n",
    "tor"
   ]
  },
  {
   "cell_type": "code",
   "execution_count": null,
   "id": "0c005ab4-b2ef-4411-89d1-884b938ede9f",
   "metadata": {},
   "outputs": [],
   "source": [
    "pds=pd.series([0.1,2,3,10.1])"
   ]
  }
 ],
 "metadata": {
  "kernelspec": {
   "display_name": "Python 3 (ipykernel)",
   "language": "python",
   "name": "python3"
  },
  "language_info": {
   "codemirror_mode": {
    "name": "ipython",
    "version": 3
   },
   "file_extension": ".py",
   "mimetype": "text/x-python",
   "name": "python",
   "nbconvert_exporter": "python",
   "pygments_lexer": "ipython3",
   "version": "3.11.7"
  }
 },
 "nbformat": 4,
 "nbformat_minor": 5
}
